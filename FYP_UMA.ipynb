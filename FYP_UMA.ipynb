{
  "nbformat": 4,
  "nbformat_minor": 0,
  "metadata": {
    "colab": {
      "name": "FYP_UMA.ipynb",
      "provenance": [],
      "collapsed_sections": [],
      "authorship_tag": "ABX9TyOX7E6XKAC8Lj15eiaIUsmT",
      "include_colab_link": true
    },
    "kernelspec": {
      "name": "python3",
      "display_name": "Python 3"
    },
    "accelerator": "GPU"
  },
  "cells": [
    {
      "cell_type": "markdown",
      "metadata": {
        "id": "view-in-github",
        "colab_type": "text"
      },
      "source": [
        "<a href=\"https://colab.research.google.com/github/MuhammadBilalH/Intent_Classification_with_LSTM/blob/main/FYP_UMA.ipynb\" target=\"_parent\"><img src=\"https://colab.research.google.com/assets/colab-badge.svg\" alt=\"Open In Colab\"/></a>"
      ]
    },
    {
      "cell_type": "code",
      "metadata": {
        "id": "BQ1wn3EbWR02"
      },
      "source": [
        "import numpy as np\r\n",
        "import pandas as pd\r\n",
        "import sys\r\n",
        "import spacy\r\n",
        "import re\r\n",
        "from gensim.models import KeyedVectors\r\n",
        "import tensorflow as tf\r\n",
        "from tensorflow.keras.models import Sequential, Model\r\n",
        "\r\n",
        "from tensorflow.keras.layers import Input\r\n",
        "from tensorflow.keras.layers import LSTM\r\n",
        "from tensorflow.keras.layers import Flatten\r\n",
        "from tensorflow.keras.layers import Dense, Dropout,Activation\r\n",
        "from tensorflow.keras.layers import TimeDistributed\r\n",
        "from tensorflow.keras.models import load_model\r\n",
        "#from tensorflow.keras.utils.np_utils import to_categorical\r\n",
        "from tensorflow.keras.optimizers import Adam\r\n",
        "from tensorflow.keras.layers import GaussianNoise\r\n",
        "from tensorflow.keras.regularizers import l2\r\n",
        "from tensorflow.keras. callbacks import TensorBoard\r\n"
      ],
      "execution_count": null,
      "outputs": []
    },
    {
      "cell_type": "code",
      "metadata": {
        "colab": {
          "base_uri": "https://localhost:8080/"
        },
        "id": "hhY1W2hyaEKb",
        "outputId": "9fa795fa-4b93-411f-cb78-5cb9b6cb2137"
      },
      "source": [
        "!pip install PyDrive"
      ],
      "execution_count": null,
      "outputs": [
        {
          "output_type": "stream",
          "text": [
            "Requirement already satisfied: PyDrive in /usr/local/lib/python3.6/dist-packages (1.3.1)\n",
            "Requirement already satisfied: oauth2client>=4.0.0 in /usr/local/lib/python3.6/dist-packages (from PyDrive) (4.1.3)\n",
            "Requirement already satisfied: PyYAML>=3.0 in /usr/local/lib/python3.6/dist-packages (from PyDrive) (3.13)\n",
            "Requirement already satisfied: google-api-python-client>=1.2 in /usr/local/lib/python3.6/dist-packages (from PyDrive) (1.7.12)\n",
            "Requirement already satisfied: httplib2>=0.9.1 in /usr/local/lib/python3.6/dist-packages (from oauth2client>=4.0.0->PyDrive) (0.17.4)\n",
            "Requirement already satisfied: pyasn1-modules>=0.0.5 in /usr/local/lib/python3.6/dist-packages (from oauth2client>=4.0.0->PyDrive) (0.2.8)\n",
            "Requirement already satisfied: rsa>=3.1.4 in /usr/local/lib/python3.6/dist-packages (from oauth2client>=4.0.0->PyDrive) (4.6)\n",
            "Requirement already satisfied: pyasn1>=0.1.7 in /usr/local/lib/python3.6/dist-packages (from oauth2client>=4.0.0->PyDrive) (0.4.8)\n",
            "Requirement already satisfied: six>=1.6.1 in /usr/local/lib/python3.6/dist-packages (from oauth2client>=4.0.0->PyDrive) (1.15.0)\n",
            "Requirement already satisfied: uritemplate<4dev,>=3.0.0 in /usr/local/lib/python3.6/dist-packages (from google-api-python-client>=1.2->PyDrive) (3.0.1)\n",
            "Requirement already satisfied: google-auth>=1.4.1 in /usr/local/lib/python3.6/dist-packages (from google-api-python-client>=1.2->PyDrive) (1.17.2)\n",
            "Requirement already satisfied: google-auth-httplib2>=0.0.3 in /usr/local/lib/python3.6/dist-packages (from google-api-python-client>=1.2->PyDrive) (0.0.4)\n",
            "Requirement already satisfied: cachetools<5.0,>=2.0.0 in /usr/local/lib/python3.6/dist-packages (from google-auth>=1.4.1->google-api-python-client>=1.2->PyDrive) (4.1.1)\n",
            "Requirement already satisfied: setuptools>=40.3.0 in /usr/local/lib/python3.6/dist-packages (from google-auth>=1.4.1->google-api-python-client>=1.2->PyDrive) (50.3.2)\n"
          ],
          "name": "stdout"
        }
      ]
    },
    {
      "cell_type": "code",
      "metadata": {
        "id": "IZdD-GgQaKoz"
      },
      "source": [
        "import os\r\n",
        "from pydrive.auth import GoogleAuth\r\n",
        "from pydrive.drive import GoogleDrive\r\n",
        "from google.colab import auth\r\n",
        "from oauth2client.client import GoogleCredentials"
      ],
      "execution_count": null,
      "outputs": []
    },
    {
      "cell_type": "code",
      "metadata": {
        "id": "iq6gnWZpaNnx"
      },
      "source": [
        "auth.authenticate_user()\r\n",
        "gauth = GoogleAuth()\r\n",
        "gauth.credentials = GoogleCredentials.get_application_default()\r\n",
        "drive = GoogleDrive(gauth)"
      ],
      "execution_count": null,
      "outputs": []
    },
    {
      "cell_type": "code",
      "metadata": {
        "id": "7zl5Jub5ahto"
      },
      "source": [
        "\r\n",
        "download = drive.CreateFile({'id': '1k7YYsJ_-lNG9o-MqNpSkFALq_uOG8vOm'})\r\n",
        "download.GetContentFile('urduvec_140M_100K_300d.bin')"
      ],
      "execution_count": null,
      "outputs": []
    },
    {
      "cell_type": "code",
      "metadata": {
        "colab": {
          "resources": {
            "http://localhost:8080/nbextensions/google.colab/files.js": {
              "data": "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",
              "ok": true,
              "headers": [
                [
                  "content-type",
                  "application/javascript"
                ]
              ],
              "status": 200,
              "status_text": ""
            }
          },
          "base_uri": "https://localhost:8080/",
          "height": 72
        },
        "id": "dhrj7KAEWndw",
        "outputId": "ab4b675b-5f90-498b-e469-14e97a4d6dc5"
      },
      "source": [
        "from google.colab import files\r\n",
        "uploaded = files.upload()"
      ],
      "execution_count": null,
      "outputs": [
        {
          "output_type": "display_data",
          "data": {
            "text/html": [
              "\n",
              "     <input type=\"file\" id=\"files-f07f34d1-1729-4407-abf6-c57a64e87864\" name=\"files[]\" multiple disabled\n",
              "        style=\"border:none\" />\n",
              "     <output id=\"result-f07f34d1-1729-4407-abf6-c57a64e87864\">\n",
              "      Upload widget is only available when the cell has been executed in the\n",
              "      current browser session. Please rerun this cell to enable.\n",
              "      </output>\n",
              "      <script src=\"/nbextensions/google.colab/files.js\"></script> "
            ],
            "text/plain": [
              "<IPython.core.display.HTML object>"
            ]
          },
          "metadata": {
            "tags": []
          }
        },
        {
          "output_type": "stream",
          "text": [
            "Saving datasetCSVfull.csv to datasetCSVfull (1).csv\n"
          ],
          "name": "stdout"
        }
      ]
    },
    {
      "cell_type": "code",
      "metadata": {
        "id": "C9IY3AjIWzrE"
      },
      "source": [
        "df=pd.read_csv('datasetCSVfull.csv')\r\n",
        "w2v = KeyedVectors.load_word2vec_format('urduvec_140M_100K_300d.bin', binary=True)"
      ],
      "execution_count": null,
      "outputs": []
    },
    {
      "cell_type": "code",
      "metadata": {
        "id": "2jiDgjxWW4ob"
      },
      "source": [
        "df=df.sample(frac=1)\r\n",
        "df.head()\r\n",
        "X_train=df.iloc[:,0].values\r\n",
        "Y_train=df.iloc[:,1].values\r\n"
      ],
      "execution_count": null,
      "outputs": []
    },
    {
      "cell_type": "code",
      "metadata": {
        "id": "Yl3RL4lGXAtr"
      },
      "source": [
        "def convert_to_vec(Y):\r\n",
        "    list_of_vec=[]\r\n",
        "    for sen in Y:\r\n",
        "        if sen == 'OpenApp':\r\n",
        "            list_of_vec.append(1)\r\n",
        "        else:\r\n",
        "            list_of_vec.append(0)\r\n",
        "    return list_of_vec"
      ],
      "execution_count": null,
      "outputs": []
    },
    {
      "cell_type": "code",
      "metadata": {
        "id": "XNOytNzJXBdp"
      },
      "source": [
        "def pre_process_sentence(sentences):\r\n",
        "    sentences = re.sub(r\"\\d+\", \" \", sentences)\r\n",
        "    # English punctuations\r\n",
        "    sentences = re.sub(r\"\"\"[!\"#$%&'()*+,-./:;<=>?@[\\]^_`{|}~]+\"\"\", \" \", sentences)\r\n",
        "    # Urdu punctuations\r\n",
        "    sentences = re.sub(r\"[:؛؟’‘٭ء،۔]+\", \" \", sentences)\r\n",
        "    # Arabic numbers\r\n",
        "    sentences = re.sub(r\"[٠‎١‎٢‎٣‎٤‎٥‎٦‎٧‎٨‎٩]+\", \" \", sentences)\r\n",
        "    sentences = re.sub(r\"[^\\w\\s]\", \" \", sentences)\r\n",
        "    # Remove English characters and numbers.\r\n",
        "    sentences = re.sub(r\"[a-zA-z0-9]+\", \" \", sentences)\r\n",
        "    # remove multiple spaces.\r\n",
        "    sentences = re.sub(r\" +\", \" \", sentences)\r\n",
        "    return sentences"
      ],
      "execution_count": null,
      "outputs": []
    },
    {
      "cell_type": "code",
      "metadata": {
        "id": "z3sjx9vSXD7A"
      },
      "source": [
        "def glove_vecs(X):\r\n",
        "    tokenizer=spacy.blank('ur')\r\n",
        "    list_of_X=[]\r\n",
        "    for sen in X:\r\n",
        "        sen=pre_process_sentence(sen)\r\n",
        "        list_of_tokens=tokenizer(sen)\r\n",
        "        list_of_token_vec=[]\r\n",
        "        for token in list_of_tokens:\r\n",
        "            try:\r\n",
        "                tokenVec=w2v[\"\"+token.text]\r\n",
        "                \r\n",
        "            except:\r\n",
        "                tokenVec=np.zeros(300)\r\n",
        "            list_of_token_vec.append(tokenVec)\r\n",
        "        while len(list_of_token_vec)<20:\r\n",
        "                    list_of_token_vec.append(np.zeros(300))\r\n",
        "        #print(len(list_of_token_vec))\r\n",
        "        #list_of_token_vec=list_of_token_vec/20\r\n",
        "        #print(list_of_token_vec)\r\n",
        "        list_of_X.append(list_of_token_vec)\r\n",
        "    return list_of_X"
      ],
      "execution_count": null,
      "outputs": []
    },
    {
      "cell_type": "code",
      "metadata": {
        "colab": {
          "base_uri": "https://localhost:8080/"
        },
        "id": "bBM7YfRaXF-i",
        "outputId": "64fa2685-5c32-4680-8355-744795315a7e"
      },
      "source": [
        "Y_train=convert_to_vec(Y_train)\r\n",
        "X_train_vec=glove_vecs(X_train)\r\n",
        "X_train_vec=np.array(X_train_vec)\r\n",
        "train_size=int(len(X_train_vec)*0.8)\r\n",
        "print(train_size)\r\n",
        "X_new=X_train_vec[:train_size]\r\n",
        "Y_new=Y_train[:train_size]\r\n",
        "X_new_test=X_train_vec[train_size:]\r\n",
        "Y_new_test=Y_train[train_size:]\r\n",
        "print(len(X_new),len(Y_new))\r\n",
        "batch_size=(len(X_new))\r\n",
        "X_test=X_train_vec[train_size:]\r\n",
        "Y_test=Y_train[train_size:]\r\n"
      ],
      "execution_count": null,
      "outputs": [
        {
          "output_type": "stream",
          "text": [
            "1498\n",
            "1498 1498\n"
          ],
          "name": "stdout"
        }
      ]
    },
    {
      "cell_type": "code",
      "metadata": {
        "colab": {
          "base_uri": "https://localhost:8080/"
        },
        "id": "0G31e-nrXTLO",
        "outputId": "bb9fd2ab-a0bd-4b31-f457-c4431956a848"
      },
      "source": [
        "\r\n",
        "model = Sequential()\r\n",
        "model.add(LSTM(1155 , return_sequences=True,input_shape=(20, 300)))\r\n",
        "model.add(LSTM(550, dropout = 0.4, recurrent_dropout=0.4))\r\n",
        "model.add(Dense(1, kernel_regularizer=l2(0.2)))\r\n",
        "model.add(Activation('sigmoid'))\r\n",
        "model.summary()\r\n",
        "adam = Adam(lr=0.0001)\r\n",
        "model.compile(loss='binary_crossentropy', optimizer=adam,metrics = ['accuracy'] )\r\n",
        "model.summary()"
      ],
      "execution_count": null,
      "outputs": [
        {
          "output_type": "stream",
          "text": [
            "WARNING:tensorflow:Layer lstm_1 will not use cuDNN kernel since it doesn't meet the cuDNN kernel criteria. It will use generic GPU kernel as fallback when running on GPU\n",
            "Model: \"sequential\"\n",
            "_________________________________________________________________\n",
            "Layer (type)                 Output Shape              Param #   \n",
            "=================================================================\n",
            "lstm (LSTM)                  (None, 20, 1155)          6726720   \n",
            "_________________________________________________________________\n",
            "lstm_1 (LSTM)                (None, 550)               3753200   \n",
            "_________________________________________________________________\n",
            "dense (Dense)                (None, 1)                 551       \n",
            "_________________________________________________________________\n",
            "activation (Activation)      (None, 1)                 0         \n",
            "=================================================================\n",
            "Total params: 10,480,471\n",
            "Trainable params: 10,480,471\n",
            "Non-trainable params: 0\n",
            "_________________________________________________________________\n",
            "Model: \"sequential\"\n",
            "_________________________________________________________________\n",
            "Layer (type)                 Output Shape              Param #   \n",
            "=================================================================\n",
            "lstm (LSTM)                  (None, 20, 1155)          6726720   \n",
            "_________________________________________________________________\n",
            "lstm_1 (LSTM)                (None, 550)               3753200   \n",
            "_________________________________________________________________\n",
            "dense (Dense)                (None, 1)                 551       \n",
            "_________________________________________________________________\n",
            "activation (Activation)      (None, 1)                 0         \n",
            "=================================================================\n",
            "Total params: 10,480,471\n",
            "Trainable params: 10,480,471\n",
            "Non-trainable params: 0\n",
            "_________________________________________________________________\n"
          ],
          "name": "stdout"
        }
      ]
    },
    {
      "cell_type": "code",
      "metadata": {
        "colab": {
          "base_uri": "https://localhost:8080/"
        },
        "id": "Fl7Q1Kw2XT7R",
        "outputId": "be3088b1-6c04-453e-c05f-bed962b5e041"
      },
      "source": [
        "model_history = model.fit(x=np.array(X_new), y=np.array(Y_new), batch_size=110, epochs=55, verbose=1,validation_data = (np.array(X_new_test), np.array(Y_new_test)))"
      ],
      "execution_count": null,
      "outputs": [
        {
          "output_type": "stream",
          "text": [
            "Epoch 1/55\n",
            "14/14 [==============================] - 4s 251ms/step - loss: 0.0290 - accuracy: 0.9960 - val_loss: 0.0762 - val_accuracy: 0.9867\n",
            "Epoch 2/55\n",
            "14/14 [==============================] - 3s 248ms/step - loss: 0.0290 - accuracy: 0.9960 - val_loss: 0.0760 - val_accuracy: 0.9867\n",
            "Epoch 3/55\n",
            "14/14 [==============================] - 3s 243ms/step - loss: 0.0290 - accuracy: 0.9967 - val_loss: 0.0758 - val_accuracy: 0.9867\n",
            "Epoch 4/55\n",
            "14/14 [==============================] - 3s 250ms/step - loss: 0.0290 - accuracy: 0.9960 - val_loss: 0.0780 - val_accuracy: 0.9867\n",
            "Epoch 5/55\n",
            "14/14 [==============================] - 3s 245ms/step - loss: 0.0291 - accuracy: 0.9953 - val_loss: 0.0816 - val_accuracy: 0.9840\n",
            "Epoch 6/55\n",
            "14/14 [==============================] - 3s 242ms/step - loss: 0.0290 - accuracy: 0.9960 - val_loss: 0.0747 - val_accuracy: 0.9867\n",
            "Epoch 7/55\n",
            "14/14 [==============================] - 3s 246ms/step - loss: 0.0291 - accuracy: 0.9960 - val_loss: 0.0750 - val_accuracy: 0.9867\n",
            "Epoch 8/55\n",
            "14/14 [==============================] - 4s 251ms/step - loss: 0.0289 - accuracy: 0.9960 - val_loss: 0.0769 - val_accuracy: 0.9840\n",
            "Epoch 9/55\n",
            "14/14 [==============================] - 3s 243ms/step - loss: 0.0290 - accuracy: 0.9953 - val_loss: 0.0783 - val_accuracy: 0.9813\n",
            "Epoch 10/55\n",
            "14/14 [==============================] - 3s 243ms/step - loss: 0.0290 - accuracy: 0.9960 - val_loss: 0.0805 - val_accuracy: 0.9813\n",
            "Epoch 11/55\n",
            "14/14 [==============================] - 3s 247ms/step - loss: 0.0291 - accuracy: 0.9953 - val_loss: 0.0779 - val_accuracy: 0.9813\n",
            "Epoch 12/55\n",
            "14/14 [==============================] - 3s 244ms/step - loss: 0.0294 - accuracy: 0.9960 - val_loss: 0.0822 - val_accuracy: 0.9813\n",
            "Epoch 13/55\n",
            "14/14 [==============================] - 3s 250ms/step - loss: 0.0292 - accuracy: 0.9953 - val_loss: 0.0755 - val_accuracy: 0.9840\n",
            "Epoch 14/55\n",
            "14/14 [==============================] - 3s 243ms/step - loss: 0.0290 - accuracy: 0.9947 - val_loss: 0.0789 - val_accuracy: 0.9840\n",
            "Epoch 15/55\n",
            "14/14 [==============================] - 3s 248ms/step - loss: 0.0289 - accuracy: 0.9960 - val_loss: 0.0808 - val_accuracy: 0.9813\n",
            "Epoch 16/55\n",
            "14/14 [==============================] - 3s 247ms/step - loss: 0.0291 - accuracy: 0.9960 - val_loss: 0.0828 - val_accuracy: 0.9813\n",
            "Epoch 17/55\n",
            "14/14 [==============================] - 4s 251ms/step - loss: 0.0289 - accuracy: 0.9967 - val_loss: 0.0776 - val_accuracy: 0.9840\n",
            "Epoch 18/55\n",
            "14/14 [==============================] - 3s 245ms/step - loss: 0.0290 - accuracy: 0.9947 - val_loss: 0.0805 - val_accuracy: 0.9813\n",
            "Epoch 19/55\n",
            "14/14 [==============================] - 3s 245ms/step - loss: 0.0289 - accuracy: 0.9960 - val_loss: 0.0841 - val_accuracy: 0.9813\n",
            "Epoch 20/55\n",
            "14/14 [==============================] - 4s 252ms/step - loss: 0.0289 - accuracy: 0.9960 - val_loss: 0.0831 - val_accuracy: 0.9813\n",
            "Epoch 21/55\n",
            "14/14 [==============================] - 3s 239ms/step - loss: 0.0290 - accuracy: 0.9960 - val_loss: 0.0808 - val_accuracy: 0.9813\n",
            "Epoch 22/55\n",
            "14/14 [==============================] - 3s 246ms/step - loss: 0.0290 - accuracy: 0.9953 - val_loss: 0.0860 - val_accuracy: 0.9813\n",
            "Epoch 23/55\n",
            "14/14 [==============================] - 3s 242ms/step - loss: 0.0302 - accuracy: 0.9967 - val_loss: 0.0796 - val_accuracy: 0.9867\n",
            "Epoch 24/55\n",
            "14/14 [==============================] - 3s 248ms/step - loss: 0.0467 - accuracy: 0.9893 - val_loss: 0.1576 - val_accuracy: 0.9600\n",
            "Epoch 25/55\n",
            "14/14 [==============================] - 3s 249ms/step - loss: 0.0546 - accuracy: 0.9893 - val_loss: 0.1035 - val_accuracy: 0.9680\n",
            "Epoch 26/55\n",
            "14/14 [==============================] - 3s 248ms/step - loss: 0.0451 - accuracy: 0.9900 - val_loss: 0.0712 - val_accuracy: 0.9787\n",
            "Epoch 27/55\n",
            "14/14 [==============================] - 3s 247ms/step - loss: 0.1433 - accuracy: 0.9660 - val_loss: 0.1200 - val_accuracy: 0.9680\n",
            "Epoch 28/55\n",
            "14/14 [==============================] - 3s 245ms/step - loss: 0.0664 - accuracy: 0.9833 - val_loss: 0.1108 - val_accuracy: 0.9787\n",
            "Epoch 29/55\n",
            "14/14 [==============================] - 3s 246ms/step - loss: 0.0444 - accuracy: 0.9940 - val_loss: 0.1153 - val_accuracy: 0.9787\n",
            "Epoch 30/55\n",
            "14/14 [==============================] - 3s 241ms/step - loss: 0.0434 - accuracy: 0.9927 - val_loss: 0.0890 - val_accuracy: 0.9840\n",
            "Epoch 31/55\n",
            "14/14 [==============================] - 3s 250ms/step - loss: 0.0453 - accuracy: 0.9933 - val_loss: 0.0982 - val_accuracy: 0.9813\n",
            "Epoch 32/55\n",
            "14/14 [==============================] - 3s 246ms/step - loss: 0.0396 - accuracy: 0.9940 - val_loss: 0.0821 - val_accuracy: 0.9840\n",
            "Epoch 33/55\n",
            "14/14 [==============================] - 4s 251ms/step - loss: 0.0357 - accuracy: 0.9940 - val_loss: 0.0761 - val_accuracy: 0.9840\n",
            "Epoch 34/55\n",
            "14/14 [==============================] - 3s 245ms/step - loss: 0.0314 - accuracy: 0.9953 - val_loss: 0.0759 - val_accuracy: 0.9787\n",
            "Epoch 35/55\n",
            "14/14 [==============================] - 3s 249ms/step - loss: 0.0308 - accuracy: 0.9953 - val_loss: 0.0799 - val_accuracy: 0.9787\n",
            "Epoch 36/55\n",
            "14/14 [==============================] - 3s 249ms/step - loss: 0.0306 - accuracy: 0.9953 - val_loss: 0.0852 - val_accuracy: 0.9813\n",
            "Epoch 37/55\n",
            "14/14 [==============================] - 3s 246ms/step - loss: 0.0310 - accuracy: 0.9940 - val_loss: 0.0700 - val_accuracy: 0.9840\n",
            "Epoch 38/55\n",
            "14/14 [==============================] - 3s 248ms/step - loss: 0.0309 - accuracy: 0.9953 - val_loss: 0.0876 - val_accuracy: 0.9813\n",
            "Epoch 39/55\n",
            "14/14 [==============================] - 3s 249ms/step - loss: 0.0303 - accuracy: 0.9953 - val_loss: 0.0899 - val_accuracy: 0.9813\n",
            "Epoch 40/55\n",
            "14/14 [==============================] - 3s 243ms/step - loss: 0.0301 - accuracy: 0.9940 - val_loss: 0.0888 - val_accuracy: 0.9813\n",
            "Epoch 41/55\n",
            "14/14 [==============================] - 4s 250ms/step - loss: 0.0299 - accuracy: 0.9947 - val_loss: 0.0892 - val_accuracy: 0.9813\n",
            "Epoch 42/55\n",
            "14/14 [==============================] - 3s 246ms/step - loss: 0.0299 - accuracy: 0.9953 - val_loss: 0.0890 - val_accuracy: 0.9813\n",
            "Epoch 43/55\n",
            "14/14 [==============================] - 3s 247ms/step - loss: 0.0297 - accuracy: 0.9953 - val_loss: 0.0890 - val_accuracy: 0.9813\n",
            "Epoch 44/55\n",
            "14/14 [==============================] - 3s 244ms/step - loss: 0.0298 - accuracy: 0.9947 - val_loss: 0.0894 - val_accuracy: 0.9813\n",
            "Epoch 45/55\n",
            "14/14 [==============================] - 3s 250ms/step - loss: 0.0299 - accuracy: 0.9953 - val_loss: 0.0909 - val_accuracy: 0.9813\n",
            "Epoch 46/55\n",
            "14/14 [==============================] - 3s 241ms/step - loss: 0.0297 - accuracy: 0.9960 - val_loss: 0.0896 - val_accuracy: 0.9813\n",
            "Epoch 47/55\n",
            "14/14 [==============================] - 3s 248ms/step - loss: 0.0296 - accuracy: 0.9960 - val_loss: 0.0916 - val_accuracy: 0.9813\n",
            "Epoch 48/55\n",
            "14/14 [==============================] - 3s 237ms/step - loss: 0.0296 - accuracy: 0.9960 - val_loss: 0.0917 - val_accuracy: 0.9813\n",
            "Epoch 49/55\n",
            "14/14 [==============================] - 3s 249ms/step - loss: 0.0295 - accuracy: 0.9960 - val_loss: 0.0920 - val_accuracy: 0.9813\n",
            "Epoch 50/55\n",
            "14/14 [==============================] - 3s 246ms/step - loss: 0.0295 - accuracy: 0.9960 - val_loss: 0.0926 - val_accuracy: 0.9813\n",
            "Epoch 51/55\n",
            "14/14 [==============================] - 3s 242ms/step - loss: 0.0296 - accuracy: 0.9947 - val_loss: 0.0918 - val_accuracy: 0.9813\n",
            "Epoch 52/55\n",
            "14/14 [==============================] - 3s 243ms/step - loss: 0.0296 - accuracy: 0.9960 - val_loss: 0.0863 - val_accuracy: 0.9813\n",
            "Epoch 53/55\n",
            "14/14 [==============================] - 3s 243ms/step - loss: 0.0293 - accuracy: 0.9960 - val_loss: 0.0871 - val_accuracy: 0.9813\n",
            "Epoch 54/55\n",
            "14/14 [==============================] - 3s 249ms/step - loss: 0.0293 - accuracy: 0.9953 - val_loss: 0.0890 - val_accuracy: 0.9813\n",
            "Epoch 55/55\n",
            "14/14 [==============================] - 3s 246ms/step - loss: 0.0293 - accuracy: 0.9960 - val_loss: 0.0869 - val_accuracy: 0.9840\n"
          ],
          "name": "stdout"
        }
      ]
    },
    {
      "cell_type": "code",
      "metadata": {
        "id": "3kKx2dWDhwD4"
      },
      "source": [
        "from tensorflow import lite\r\n"
      ],
      "execution_count": null,
      "outputs": []
    },
    {
      "cell_type": "code",
      "metadata": {
        "colab": {
          "base_uri": "https://localhost:8080/"
        },
        "id": "pW14gUT3b2EF",
        "outputId": "0522f18f-cc28-47c4-8118-6567cdf82c19"
      },
      "source": [
        "# Convert the model.\r\n",
        "converter = tf.lite.TFLiteConverter.from_keras_model(model)\r\n",
        "tflite_model = converter.convert()\r\n",
        "\r\n",
        "# Save the model.\r\n",
        "with open('model.tflite', 'wb') as f:\r\n",
        "  f.write(tflite_model)"
      ],
      "execution_count": null,
      "outputs": [
        {
          "output_type": "stream",
          "text": [
            "WARNING:tensorflow:From /usr/local/lib/python3.6/dist-packages/tensorflow/python/training/tracking/tracking.py:111: Model.state_updates (from tensorflow.python.keras.engine.training) is deprecated and will be removed in a future version.\n",
            "Instructions for updating:\n",
            "This property should not be used in TensorFlow 2.0, as updates are applied automatically.\n",
            "WARNING:tensorflow:From /usr/local/lib/python3.6/dist-packages/tensorflow/python/training/tracking/tracking.py:111: Layer.updates (from tensorflow.python.keras.engine.base_layer) is deprecated and will be removed in a future version.\n",
            "Instructions for updating:\n",
            "This property should not be used in TensorFlow 2.0, as updates are applied automatically.\n",
            "INFO:tensorflow:Assets written to: /tmp/tmp3en4qy2z/assets\n"
          ],
          "name": "stdout"
        }
      ]
    }
  ]
}